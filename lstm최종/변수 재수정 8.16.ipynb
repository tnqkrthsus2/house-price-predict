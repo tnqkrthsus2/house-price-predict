{
 "cells": [
  {
   "cell_type": "code",
   "execution_count": 1,
   "metadata": {},
   "outputs": [],
   "source": [
    "import numpy as np\n",
    "import pandas as pd"
   ]
  },
  {
   "cell_type": "code",
   "execution_count": 150,
   "metadata": {},
   "outputs": [],
   "source": [
    "#더 다양한 파일 포함된 데이터 불러오기\n",
    "df_vary = pd.read_csv('서울시아파트(기준).csv',encoding='cp949')"
   ]
  },
  {
   "cell_type": "code",
   "execution_count": 151,
   "metadata": {},
   "outputs": [],
   "source": [
    "df_vary = df_vary.drop_duplicates(['k-아파트코드'])"
   ]
  },
  {
   "cell_type": "code",
   "execution_count": 152,
   "metadata": {},
   "outputs": [
    {
     "data": {
      "text/plain": [
       "Index(['번호', 'k-아파트코드', 'k-아파트명', 'k-단지분류(아파트,주상복합등등)', 'kapt도로명주소',\n",
       "       '주소(시도)k-apt주소split', '주소(시군구)', '주소(읍면동)', '나머지주소', '주소(도로명)',\n",
       "       '주소(도로상세주소)', 'k-전화번호', 'k-팩스번호', '단지소개기존clob', '단지첨부파일',\n",
       "       'k-세대타입(분양형태)', 'k-관리방식', 'k-복도유형', 'k-난방방식', 'k-전체동수', 'k-전체세대수',\n",
       "       'k-건설사(시공사)', 'k-시행사', 'k-사용검사일-사용승인일', 'k-연면적', 'k-주거전용면적',\n",
       "       'k-관리비부과면적', 'k-전용면적별세대현황(60㎡이하)', 'k-전용면적별세대현황(60㎡~85㎡이하)',\n",
       "       'k-85㎡~135㎡이하', 'k-135㎡초과', 'k-홈페이지', 'k-등록일자', 'k-수정일자', '고용보험관리번호',\n",
       "       '경비비관리형태', '세대전기계약방법', '청소비관리형태', '건축면적', '주차대수', '기타/의무/임대/임의=1/2/3/4',\n",
       "       '단지승인일', '사용허가여부', '관리비 업로드', '좌표X', '좌표Y', '단지신청일'],\n",
       "      dtype='object')"
      ]
     },
     "execution_count": 152,
     "metadata": {},
     "output_type": "execute_result"
    }
   ],
   "source": [
    "df_vary.keys()"
   ]
  },
  {
   "cell_type": "code",
   "execution_count": 153,
   "metadata": {},
   "outputs": [],
   "source": [
    "df_vary = df_vary[['k-아파트코드','k-전체세대수','좌표X','좌표Y']]"
   ]
  },
  {
   "cell_type": "code",
   "execution_count": 119,
   "metadata": {},
   "outputs": [],
   "source": [
    "df_vary.columns = [['아파트코드','세대수','좌표X','좌표Y']]"
   ]
  },
  {
   "cell_type": "code",
   "execution_count": 120,
   "metadata": {},
   "outputs": [],
   "source": [
    "df = pd.read_csv('데이터_변수_0812_final2.csv',encoding='cp949')"
   ]
  },
  {
   "cell_type": "code",
   "execution_count": 121,
   "metadata": {},
   "outputs": [
    {
     "data": {
      "text/plain": [
       "Index(['아파트코드', '계약년월', '단지명', '시군구', '읍면동', 'kapt도로명주소', '분양형태', '전용면적', '층',\n",
       "       '건축년도', '주차대수', '좌표X', '좌표Y', '범죄율', '건물연식', '대규모점포_거리', '버스정류장_거리',\n",
       "       '지하철역_거리', '학교_거리', '유치원_거리', '병원_거리', '거래금액', '아파트매매가격지수', '년도', '월',\n",
       "       '주택구매력지수', 'PIR', 'LIR', 'GDP', 'GDI', 'GNI', '소비자물가지수', '대출평균',\n",
       "       '주택담보대출금리', '평균코스피지수'],\n",
       "      dtype='object')"
      ]
     },
     "execution_count": 121,
     "metadata": {},
     "output_type": "execute_result"
    }
   ],
   "source": [
    "df.keys()"
   ]
  },
  {
   "cell_type": "code",
   "execution_count": 122,
   "metadata": {},
   "outputs": [],
   "source": [
    "a = pd.read_excel('A(m2,소비자심리,미분양).xlsx')"
   ]
  },
  {
   "cell_type": "code",
   "execution_count": 123,
   "metadata": {},
   "outputs": [
    {
     "data": {
      "text/html": [
       "<div>\n",
       "<style scoped>\n",
       "    .dataframe tbody tr th:only-of-type {\n",
       "        vertical-align: middle;\n",
       "    }\n",
       "\n",
       "    .dataframe tbody tr th {\n",
       "        vertical-align: top;\n",
       "    }\n",
       "\n",
       "    .dataframe thead th {\n",
       "        text-align: right;\n",
       "    }\n",
       "</style>\n",
       "<table border=\"1\" class=\"dataframe\">\n",
       "  <thead>\n",
       "    <tr style=\"text-align: right;\">\n",
       "      <th></th>\n",
       "      <th>아파트코드</th>\n",
       "      <th>계약년월</th>\n",
       "      <th>단지명</th>\n",
       "      <th>시군구</th>\n",
       "      <th>읍면동</th>\n",
       "      <th>kapt도로명주소</th>\n",
       "      <th>분양형태</th>\n",
       "      <th>전용면적</th>\n",
       "      <th>층</th>\n",
       "      <th>건축년도</th>\n",
       "      <th>...</th>\n",
       "      <th>GDP</th>\n",
       "      <th>GDI</th>\n",
       "      <th>GNI</th>\n",
       "      <th>소비자물가지수</th>\n",
       "      <th>대출평균</th>\n",
       "      <th>주택담보대출금리</th>\n",
       "      <th>평균코스피지수</th>\n",
       "      <th>M2통화량(평잔,십억원)</th>\n",
       "      <th>주택시장소비심리지수</th>\n",
       "      <th>미분양</th>\n",
       "    </tr>\n",
       "  </thead>\n",
       "  <tbody>\n",
       "    <tr>\n",
       "      <th>0</th>\n",
       "      <td>A10024240</td>\n",
       "      <td>201201</td>\n",
       "      <td>무지개</td>\n",
       "      <td>서울특별시 서초구 서초동</td>\n",
       "      <td>서초동</td>\n",
       "      <td>서울특별시 서초구 효령로 391</td>\n",
       "      <td>임대+분양</td>\n",
       "      <td>101.81</td>\n",
       "      <td>1</td>\n",
       "      <td>1978</td>\n",
       "      <td>...</td>\n",
       "      <td>361724.2</td>\n",
       "      <td>343229.4</td>\n",
       "      <td>345819.5</td>\n",
       "      <td>91.242</td>\n",
       "      <td>5.79</td>\n",
       "      <td>5.06</td>\n",
       "      <td>1956</td>\n",
       "      <td>1757058.7</td>\n",
       "      <td>106.0</td>\n",
       "      <td>1890.0</td>\n",
       "    </tr>\n",
       "    <tr>\n",
       "      <th>1</th>\n",
       "      <td>A10024240</td>\n",
       "      <td>201201</td>\n",
       "      <td>무지개</td>\n",
       "      <td>서울특별시 서초구 서초동</td>\n",
       "      <td>서초동</td>\n",
       "      <td>서울특별시 서초구 효령로 391</td>\n",
       "      <td>임대+분양</td>\n",
       "      <td>101.10</td>\n",
       "      <td>11</td>\n",
       "      <td>1978</td>\n",
       "      <td>...</td>\n",
       "      <td>361724.2</td>\n",
       "      <td>343229.4</td>\n",
       "      <td>345819.5</td>\n",
       "      <td>91.242</td>\n",
       "      <td>5.79</td>\n",
       "      <td>5.06</td>\n",
       "      <td>1956</td>\n",
       "      <td>1757058.7</td>\n",
       "      <td>106.0</td>\n",
       "      <td>1890.0</td>\n",
       "    </tr>\n",
       "    <tr>\n",
       "      <th>2</th>\n",
       "      <td>A10024240</td>\n",
       "      <td>201201</td>\n",
       "      <td>무지개</td>\n",
       "      <td>서울특별시 서초구 서초동</td>\n",
       "      <td>서초동</td>\n",
       "      <td>서울특별시 서초구 효령로 391</td>\n",
       "      <td>임대+분양</td>\n",
       "      <td>77.71</td>\n",
       "      <td>6</td>\n",
       "      <td>1978</td>\n",
       "      <td>...</td>\n",
       "      <td>361724.2</td>\n",
       "      <td>343229.4</td>\n",
       "      <td>345819.5</td>\n",
       "      <td>91.242</td>\n",
       "      <td>5.79</td>\n",
       "      <td>5.06</td>\n",
       "      <td>1956</td>\n",
       "      <td>1757058.7</td>\n",
       "      <td>106.0</td>\n",
       "      <td>1890.0</td>\n",
       "    </tr>\n",
       "    <tr>\n",
       "      <th>3</th>\n",
       "      <td>A10024240</td>\n",
       "      <td>201201</td>\n",
       "      <td>무지개</td>\n",
       "      <td>서울특별시 서초구 서초동</td>\n",
       "      <td>서초동</td>\n",
       "      <td>서울특별시 서초구 효령로 391</td>\n",
       "      <td>임대+분양</td>\n",
       "      <td>101.10</td>\n",
       "      <td>3</td>\n",
       "      <td>1978</td>\n",
       "      <td>...</td>\n",
       "      <td>361724.2</td>\n",
       "      <td>343229.4</td>\n",
       "      <td>345819.5</td>\n",
       "      <td>91.242</td>\n",
       "      <td>5.79</td>\n",
       "      <td>5.06</td>\n",
       "      <td>1956</td>\n",
       "      <td>1757058.7</td>\n",
       "      <td>106.0</td>\n",
       "      <td>1890.0</td>\n",
       "    </tr>\n",
       "    <tr>\n",
       "      <th>4</th>\n",
       "      <td>A10024603</td>\n",
       "      <td>201201</td>\n",
       "      <td>아이파크종암동2차</td>\n",
       "      <td>서울특별시 성북구 종암동</td>\n",
       "      <td>종암동</td>\n",
       "      <td>서울특별시 성북구 종암로9길 71</td>\n",
       "      <td>임대</td>\n",
       "      <td>84.73</td>\n",
       "      <td>5</td>\n",
       "      <td>2005</td>\n",
       "      <td>...</td>\n",
       "      <td>361724.2</td>\n",
       "      <td>343229.4</td>\n",
       "      <td>345819.5</td>\n",
       "      <td>91.242</td>\n",
       "      <td>5.79</td>\n",
       "      <td>5.06</td>\n",
       "      <td>1956</td>\n",
       "      <td>1757058.7</td>\n",
       "      <td>106.0</td>\n",
       "      <td>1890.0</td>\n",
       "    </tr>\n",
       "    <tr>\n",
       "      <th>...</th>\n",
       "      <td>...</td>\n",
       "      <td>...</td>\n",
       "      <td>...</td>\n",
       "      <td>...</td>\n",
       "      <td>...</td>\n",
       "      <td>...</td>\n",
       "      <td>...</td>\n",
       "      <td>...</td>\n",
       "      <td>...</td>\n",
       "      <td>...</td>\n",
       "      <td>...</td>\n",
       "      <td>...</td>\n",
       "      <td>...</td>\n",
       "      <td>...</td>\n",
       "      <td>...</td>\n",
       "      <td>...</td>\n",
       "      <td>...</td>\n",
       "      <td>...</td>\n",
       "      <td>...</td>\n",
       "      <td>...</td>\n",
       "      <td>...</td>\n",
       "    </tr>\n",
       "    <tr>\n",
       "      <th>725063</th>\n",
       "      <td>A15776004</td>\n",
       "      <td>202207</td>\n",
       "      <td>현대3</td>\n",
       "      <td>서울특별시 강서구 염창동</td>\n",
       "      <td>염창동</td>\n",
       "      <td>서울특별시 강서구 양천로75길 60</td>\n",
       "      <td>분양</td>\n",
       "      <td>59.92</td>\n",
       "      <td>1</td>\n",
       "      <td>1996</td>\n",
       "      <td>...</td>\n",
       "      <td>NaN</td>\n",
       "      <td>NaN</td>\n",
       "      <td>NaN</td>\n",
       "      <td>108.740</td>\n",
       "      <td>NaN</td>\n",
       "      <td>NaN</td>\n",
       "      <td>2452</td>\n",
       "      <td>NaN</td>\n",
       "      <td>NaN</td>\n",
       "      <td>NaN</td>\n",
       "    </tr>\n",
       "    <tr>\n",
       "      <th>725064</th>\n",
       "      <td>A15807701</td>\n",
       "      <td>202207</td>\n",
       "      <td>세양청마루</td>\n",
       "      <td>서울특별시 양천구 신정동</td>\n",
       "      <td>신정동</td>\n",
       "      <td>서울특별시 양천구 목동남로2길 60-30</td>\n",
       "      <td>분양</td>\n",
       "      <td>84.98</td>\n",
       "      <td>9</td>\n",
       "      <td>2006</td>\n",
       "      <td>...</td>\n",
       "      <td>NaN</td>\n",
       "      <td>NaN</td>\n",
       "      <td>NaN</td>\n",
       "      <td>108.740</td>\n",
       "      <td>NaN</td>\n",
       "      <td>NaN</td>\n",
       "      <td>2452</td>\n",
       "      <td>NaN</td>\n",
       "      <td>NaN</td>\n",
       "      <td>NaN</td>\n",
       "    </tr>\n",
       "    <tr>\n",
       "      <th>725065</th>\n",
       "      <td>A15882107</td>\n",
       "      <td>202207</td>\n",
       "      <td>금호1</td>\n",
       "      <td>서울특별시 양천구 목동</td>\n",
       "      <td>목동</td>\n",
       "      <td>서울특별시 양천구 목동동로 258</td>\n",
       "      <td>분양</td>\n",
       "      <td>84.96</td>\n",
       "      <td>22</td>\n",
       "      <td>1997</td>\n",
       "      <td>...</td>\n",
       "      <td>NaN</td>\n",
       "      <td>NaN</td>\n",
       "      <td>NaN</td>\n",
       "      <td>108.740</td>\n",
       "      <td>NaN</td>\n",
       "      <td>NaN</td>\n",
       "      <td>2452</td>\n",
       "      <td>NaN</td>\n",
       "      <td>NaN</td>\n",
       "      <td>NaN</td>\n",
       "    </tr>\n",
       "    <tr>\n",
       "      <th>725066</th>\n",
       "      <td>A41279917</td>\n",
       "      <td>202207</td>\n",
       "      <td>은평뉴타운우물골(두산위브6단지)</td>\n",
       "      <td>서울특별시 은평구 진관동</td>\n",
       "      <td>진관동</td>\n",
       "      <td>서울특별시 은평구 진관2로 57-7</td>\n",
       "      <td>분양</td>\n",
       "      <td>84.54</td>\n",
       "      <td>8</td>\n",
       "      <td>2009</td>\n",
       "      <td>...</td>\n",
       "      <td>NaN</td>\n",
       "      <td>NaN</td>\n",
       "      <td>NaN</td>\n",
       "      <td>108.740</td>\n",
       "      <td>NaN</td>\n",
       "      <td>NaN</td>\n",
       "      <td>2452</td>\n",
       "      <td>NaN</td>\n",
       "      <td>NaN</td>\n",
       "      <td>NaN</td>\n",
       "    </tr>\n",
       "    <tr>\n",
       "      <th>725067</th>\n",
       "      <td>A41279923</td>\n",
       "      <td>202207</td>\n",
       "      <td>은평뉴타운 제각말 푸르지오(5-1단지)</td>\n",
       "      <td>서울특별시 은평구 진관동</td>\n",
       "      <td>진관동</td>\n",
       "      <td>서울특별시 은평구 연서로48길 12</td>\n",
       "      <td>분양</td>\n",
       "      <td>101.83</td>\n",
       "      <td>5</td>\n",
       "      <td>2010</td>\n",
       "      <td>...</td>\n",
       "      <td>NaN</td>\n",
       "      <td>NaN</td>\n",
       "      <td>NaN</td>\n",
       "      <td>108.740</td>\n",
       "      <td>NaN</td>\n",
       "      <td>NaN</td>\n",
       "      <td>2452</td>\n",
       "      <td>NaN</td>\n",
       "      <td>NaN</td>\n",
       "      <td>NaN</td>\n",
       "    </tr>\n",
       "  </tbody>\n",
       "</table>\n",
       "<p>725068 rows × 38 columns</p>\n",
       "</div>"
      ],
      "text/plain": [
       "            아파트코드    계약년월                    단지명            시군구  읍면동  \\\n",
       "0       A10024240  201201                    무지개  서울특별시 서초구 서초동  서초동   \n",
       "1       A10024240  201201                    무지개  서울특별시 서초구 서초동  서초동   \n",
       "2       A10024240  201201                    무지개  서울특별시 서초구 서초동  서초동   \n",
       "3       A10024240  201201                    무지개  서울특별시 서초구 서초동  서초동   \n",
       "4       A10024603  201201              아이파크종암동2차  서울특별시 성북구 종암동  종암동   \n",
       "...           ...     ...                    ...            ...  ...   \n",
       "725063  A15776004  202207                    현대3  서울특별시 강서구 염창동  염창동   \n",
       "725064  A15807701  202207                  세양청마루  서울특별시 양천구 신정동  신정동   \n",
       "725065  A15882107  202207                    금호1   서울특별시 양천구 목동   목동   \n",
       "725066  A41279917  202207      은평뉴타운우물골(두산위브6단지)  서울특별시 은평구 진관동  진관동   \n",
       "725067  A41279923  202207  은평뉴타운 제각말 푸르지오(5-1단지)  서울특별시 은평구 진관동  진관동   \n",
       "\n",
       "                     kapt도로명주소   분양형태    전용면적   층  건축년도  ...       GDP  \\\n",
       "0            서울특별시 서초구 효령로 391  임대+분양  101.81   1  1978  ...  361724.2   \n",
       "1            서울특별시 서초구 효령로 391  임대+분양  101.10  11  1978  ...  361724.2   \n",
       "2            서울특별시 서초구 효령로 391  임대+분양   77.71   6  1978  ...  361724.2   \n",
       "3            서울특별시 서초구 효령로 391  임대+분양  101.10   3  1978  ...  361724.2   \n",
       "4           서울특별시 성북구 종암로9길 71     임대   84.73   5  2005  ...  361724.2   \n",
       "...                        ...    ...     ...  ..   ...  ...       ...   \n",
       "725063     서울특별시 강서구 양천로75길 60     분양   59.92   1  1996  ...       NaN   \n",
       "725064  서울특별시 양천구 목동남로2길 60-30     분양   84.98   9  2006  ...       NaN   \n",
       "725065      서울특별시 양천구 목동동로 258     분양   84.96  22  1997  ...       NaN   \n",
       "725066     서울특별시 은평구 진관2로 57-7     분양   84.54   8  2009  ...       NaN   \n",
       "725067     서울특별시 은평구 연서로48길 12     분양  101.83   5  2010  ...       NaN   \n",
       "\n",
       "             GDI       GNI  소비자물가지수  대출평균  주택담보대출금리  평균코스피지수  M2통화량(평잔,십억원)  \\\n",
       "0       343229.4  345819.5   91.242  5.79      5.06     1956      1757058.7   \n",
       "1       343229.4  345819.5   91.242  5.79      5.06     1956      1757058.7   \n",
       "2       343229.4  345819.5   91.242  5.79      5.06     1956      1757058.7   \n",
       "3       343229.4  345819.5   91.242  5.79      5.06     1956      1757058.7   \n",
       "4       343229.4  345819.5   91.242  5.79      5.06     1956      1757058.7   \n",
       "...          ...       ...      ...   ...       ...      ...            ...   \n",
       "725063       NaN       NaN  108.740   NaN       NaN     2452            NaN   \n",
       "725064       NaN       NaN  108.740   NaN       NaN     2452            NaN   \n",
       "725065       NaN       NaN  108.740   NaN       NaN     2452            NaN   \n",
       "725066       NaN       NaN  108.740   NaN       NaN     2452            NaN   \n",
       "725067       NaN       NaN  108.740   NaN       NaN     2452            NaN   \n",
       "\n",
       "        주택시장소비심리지수     미분양  \n",
       "0            106.0  1890.0  \n",
       "1            106.0  1890.0  \n",
       "2            106.0  1890.0  \n",
       "3            106.0  1890.0  \n",
       "4            106.0  1890.0  \n",
       "...            ...     ...  \n",
       "725063         NaN     NaN  \n",
       "725064         NaN     NaN  \n",
       "725065         NaN     NaN  \n",
       "725066         NaN     NaN  \n",
       "725067         NaN     NaN  \n",
       "\n",
       "[725068 rows x 38 columns]"
      ]
     },
     "execution_count": 123,
     "metadata": {},
     "output_type": "execute_result"
    }
   ],
   "source": [
    "df = pd.merge(df, a, on = '계약년월', how = 'left')\n",
    "df"
   ]
  },
  {
   "cell_type": "code",
   "execution_count": 125,
   "metadata": {},
   "outputs": [],
   "source": [
    "df = df.astype({'평균코스피지수':'float64'})"
   ]
  },
  {
   "cell_type": "code",
   "execution_count": 126,
   "metadata": {},
   "outputs": [
    {
     "data": {
      "text/plain": [
       "0         5.06\n",
       "1         5.06\n",
       "2         5.06\n",
       "3         5.06\n",
       "4         5.06\n",
       "          ... \n",
       "725063     NaN\n",
       "725064     NaN\n",
       "725065     NaN\n",
       "725066     NaN\n",
       "725067     NaN\n",
       "Name: 주택담보대출금리, Length: 725068, dtype: float64"
      ]
     },
     "execution_count": 126,
     "metadata": {},
     "output_type": "execute_result"
    }
   ],
   "source": [
    "df.pop('주택담보대출금리')"
   ]
  },
  {
   "cell_type": "code",
   "execution_count": 127,
   "metadata": {},
   "outputs": [
    {
     "data": {
      "text/plain": [
       "0         5.79\n",
       "1         5.79\n",
       "2         5.79\n",
       "3         5.79\n",
       "4         5.79\n",
       "          ... \n",
       "725063     NaN\n",
       "725064     NaN\n",
       "725065     NaN\n",
       "725066     NaN\n",
       "725067     NaN\n",
       "Name: 대출평균, Length: 725068, dtype: float64"
      ]
     },
     "execution_count": 127,
     "metadata": {},
     "output_type": "execute_result"
    }
   ],
   "source": [
    "df.pop('대출평균')"
   ]
  },
  {
   "cell_type": "code",
   "execution_count": 128,
   "metadata": {},
   "outputs": [
    {
     "data": {
      "text/plain": [
       "아파트코드               0\n",
       "계약년월                0\n",
       "단지명                 0\n",
       "시군구                 0\n",
       "읍면동                 0\n",
       "kapt도로명주소           0\n",
       "분양형태             2628\n",
       "전용면적                0\n",
       "층                   0\n",
       "건축년도                0\n",
       "주차대수             1926\n",
       "좌표X                 0\n",
       "좌표Y                 0\n",
       "범죄율                 0\n",
       "건물연식                0\n",
       "대규모점포_거리            0\n",
       "버스정류장_거리            0\n",
       "지하철역_거리             0\n",
       "학교_거리               0\n",
       "유치원_거리              0\n",
       "병원_거리               0\n",
       "거래금액                0\n",
       "아파트매매가격지수           0\n",
       "년도                  0\n",
       "월                   0\n",
       "주택구매력지수          3269\n",
       "PIR              4222\n",
       "LIR              4222\n",
       "GDP               228\n",
       "GDI               228\n",
       "GNI               228\n",
       "소비자물가지수             0\n",
       "평균코스피지수             0\n",
       "M2통화량(평잔,십억원)     228\n",
       "주택시장소비심리지수        228\n",
       "미분양               228\n",
       "dtype: int64"
      ]
     },
     "execution_count": 128,
     "metadata": {},
     "output_type": "execute_result"
    }
   ],
   "source": [
    "df.isnull().sum()"
   ]
  },
  {
   "cell_type": "code",
   "execution_count": 129,
   "metadata": {},
   "outputs": [],
   "source": [
    "df = df[df['주차대수'].notna()]\n",
    "df = df[df['분양형태'].notna()]\n",
    "df = df[df['M2통화량(평잔,십억원)'].notna()]\n",
    "df = df[df['주택시장소비심리지수'].notna()]\n",
    "df = df[df['미분양'].notna()]\n",
    "df = df[df['PIR'].notna()]\n",
    "df = df[df['LIR'].notna()]\n",
    "df = df[df['주택구매력지수'].notna()]"
   ]
  },
  {
   "cell_type": "code",
   "execution_count": 130,
   "metadata": {},
   "outputs": [
    {
     "data": {
      "text/plain": [
       "아파트코드            0\n",
       "계약년월             0\n",
       "단지명              0\n",
       "시군구              0\n",
       "읍면동              0\n",
       "kapt도로명주소        0\n",
       "분양형태             0\n",
       "전용면적             0\n",
       "층                0\n",
       "건축년도             0\n",
       "주차대수             0\n",
       "좌표X              0\n",
       "좌표Y              0\n",
       "범죄율              0\n",
       "건물연식             0\n",
       "대규모점포_거리         0\n",
       "버스정류장_거리         0\n",
       "지하철역_거리          0\n",
       "학교_거리            0\n",
       "유치원_거리           0\n",
       "병원_거리            0\n",
       "거래금액             0\n",
       "아파트매매가격지수        0\n",
       "년도               0\n",
       "월                0\n",
       "주택구매력지수          0\n",
       "PIR              0\n",
       "LIR              0\n",
       "GDP              0\n",
       "GDI              0\n",
       "GNI              0\n",
       "소비자물가지수          0\n",
       "평균코스피지수          0\n",
       "M2통화량(평잔,십억원)    0\n",
       "주택시장소비심리지수       0\n",
       "미분양              0\n",
       "dtype: int64"
      ]
     },
     "execution_count": 130,
     "metadata": {},
     "output_type": "execute_result"
    }
   ],
   "source": [
    "df.isnull().sum()"
   ]
  },
  {
   "cell_type": "code",
   "execution_count": 131,
   "metadata": {},
   "outputs": [],
   "source": [
    "df = pd.get_dummies(df,columns=['분양형태'])"
   ]
  },
  {
   "cell_type": "code",
   "execution_count": 132,
   "metadata": {},
   "outputs": [
    {
     "data": {
      "text/plain": [
       "Index(['아파트코드', '계약년월', '단지명', '시군구', '읍면동', 'kapt도로명주소', '전용면적', '층', '건축년도',\n",
       "       '주차대수', '좌표X', '좌표Y', '범죄율', '건물연식', '대규모점포_거리', '버스정류장_거리', '지하철역_거리',\n",
       "       '학교_거리', '유치원_거리', '병원_거리', '거래금액', '아파트매매가격지수', '년도', '월', '주택구매력지수',\n",
       "       'PIR', 'LIR', 'GDP', 'GDI', 'GNI', '소비자물가지수', '평균코스피지수',\n",
       "       'M2통화량(평잔,십억원)', '주택시장소비심리지수', '미분양', '분양형태_분양', '분양형태_영구임대', '분양형태_임대',\n",
       "       '분양형태_임대+분양'],\n",
       "      dtype='object')"
      ]
     },
     "execution_count": 132,
     "metadata": {},
     "output_type": "execute_result"
    }
   ],
   "source": [
    "df.keys()"
   ]
  },
  {
   "cell_type": "code",
   "execution_count": 133,
   "metadata": {},
   "outputs": [],
   "source": [
    "codes = df['아파트코드']"
   ]
  },
  {
   "cell_type": "markdown",
   "metadata": {},
   "source": [
    "주변의 아파트 구하기"
   ]
  },
  {
   "cell_type": "code",
   "execution_count": 134,
   "metadata": {},
   "outputs": [],
   "source": [
    "df_range = df_vary[['아파트코드','좌표X','좌표Y','세대수']]"
   ]
  },
  {
   "cell_type": "code",
   "execution_count": 135,
   "metadata": {},
   "outputs": [
    {
     "data": {
      "text/html": [
       "<div>\n",
       "<style scoped>\n",
       "    .dataframe tbody tr th:only-of-type {\n",
       "        vertical-align: middle;\n",
       "    }\n",
       "\n",
       "    .dataframe tbody tr th {\n",
       "        vertical-align: top;\n",
       "    }\n",
       "\n",
       "    .dataframe thead tr th {\n",
       "        text-align: left;\n",
       "    }\n",
       "</style>\n",
       "<table border=\"1\" class=\"dataframe\">\n",
       "  <thead>\n",
       "    <tr>\n",
       "      <th></th>\n",
       "      <th>아파트코드</th>\n",
       "      <th>좌표X</th>\n",
       "      <th>좌표Y</th>\n",
       "      <th>세대수</th>\n",
       "    </tr>\n",
       "  </thead>\n",
       "  <tbody>\n",
       "    <tr>\n",
       "      <th>0</th>\n",
       "      <td>A15679103</td>\n",
       "      <td>126.959639</td>\n",
       "      <td>37.500668</td>\n",
       "      <td>206.0</td>\n",
       "    </tr>\n",
       "    <tr>\n",
       "      <th>1</th>\n",
       "      <td>A13876112</td>\n",
       "      <td>127.129179</td>\n",
       "      <td>37.476897</td>\n",
       "      <td>197.0</td>\n",
       "    </tr>\n",
       "    <tr>\n",
       "      <th>2</th>\n",
       "      <td>A13873701</td>\n",
       "      <td>127.128775</td>\n",
       "      <td>37.508906</td>\n",
       "      <td>153.0</td>\n",
       "    </tr>\n",
       "    <tr>\n",
       "      <th>3</th>\n",
       "      <td>A15275101</td>\n",
       "      <td>126.840675</td>\n",
       "      <td>37.501162</td>\n",
       "      <td>209.0</td>\n",
       "    </tr>\n",
       "    <tr>\n",
       "      <th>4</th>\n",
       "      <td>A13991016</td>\n",
       "      <td>127.058220</td>\n",
       "      <td>37.631732</td>\n",
       "      <td>205.0</td>\n",
       "    </tr>\n",
       "    <tr>\n",
       "      <th>...</th>\n",
       "      <td>...</td>\n",
       "      <td>...</td>\n",
       "      <td>...</td>\n",
       "      <td>...</td>\n",
       "    </tr>\n",
       "    <tr>\n",
       "      <th>2617</th>\n",
       "      <td>A10023859</td>\n",
       "      <td>126.927512</td>\n",
       "      <td>37.513950</td>\n",
       "      <td>130.0</td>\n",
       "    </tr>\n",
       "    <tr>\n",
       "      <th>2618</th>\n",
       "      <td>A10023858</td>\n",
       "      <td>126.962886</td>\n",
       "      <td>37.548159</td>\n",
       "      <td>NaN</td>\n",
       "    </tr>\n",
       "    <tr>\n",
       "      <th>2619</th>\n",
       "      <td>A10023855</td>\n",
       "      <td>NaN</td>\n",
       "      <td>NaN</td>\n",
       "      <td>675.0</td>\n",
       "    </tr>\n",
       "    <tr>\n",
       "      <th>2620</th>\n",
       "      <td>A10023829</td>\n",
       "      <td>127.033011</td>\n",
       "      <td>37.620171</td>\n",
       "      <td>203.0</td>\n",
       "    </tr>\n",
       "    <tr>\n",
       "      <th>2621</th>\n",
       "      <td>A10023825</td>\n",
       "      <td>127.045793</td>\n",
       "      <td>37.500586</td>\n",
       "      <td>499.0</td>\n",
       "    </tr>\n",
       "  </tbody>\n",
       "</table>\n",
       "<p>2622 rows × 4 columns</p>\n",
       "</div>"
      ],
      "text/plain": [
       "          아파트코드         좌표X        좌표Y    세대수\n",
       "0     A15679103  126.959639  37.500668  206.0\n",
       "1     A13876112  127.129179  37.476897  197.0\n",
       "2     A13873701  127.128775  37.508906  153.0\n",
       "3     A15275101  126.840675  37.501162  209.0\n",
       "4     A13991016  127.058220  37.631732  205.0\n",
       "...         ...         ...        ...    ...\n",
       "2617  A10023859  126.927512  37.513950  130.0\n",
       "2618  A10023858  126.962886  37.548159    NaN\n",
       "2619  A10023855         NaN        NaN  675.0\n",
       "2620  A10023829  127.033011  37.620171  203.0\n",
       "2621  A10023825  127.045793  37.500586  499.0\n",
       "\n",
       "[2622 rows x 4 columns]"
      ]
     },
     "execution_count": 135,
     "metadata": {},
     "output_type": "execute_result"
    }
   ],
   "source": [
    "df_range"
   ]
  },
  {
   "cell_type": "markdown",
   "metadata": {},
   "source": [
    "A10024240 단지를 중심으로"
   ]
  },
  {
   "cell_type": "code",
   "execution_count": 137,
   "metadata": {},
   "outputs": [
    {
     "data": {
      "text/html": [
       "<div>\n",
       "<style scoped>\n",
       "    .dataframe tbody tr th:only-of-type {\n",
       "        vertical-align: middle;\n",
       "    }\n",
       "\n",
       "    .dataframe tbody tr th {\n",
       "        vertical-align: top;\n",
       "    }\n",
       "\n",
       "    .dataframe thead tr th {\n",
       "        text-align: left;\n",
       "    }\n",
       "</style>\n",
       "<table border=\"1\" class=\"dataframe\">\n",
       "  <thead>\n",
       "    <tr>\n",
       "      <th></th>\n",
       "      <th>아파트코드</th>\n",
       "      <th>좌표X</th>\n",
       "      <th>좌표Y</th>\n",
       "      <th>세대수</th>\n",
       "    </tr>\n",
       "  </thead>\n",
       "  <tbody>\n",
       "    <tr>\n",
       "      <th>0</th>\n",
       "      <td>A15679103</td>\n",
       "      <td>126.959639</td>\n",
       "      <td>37.500668</td>\n",
       "      <td>206.0</td>\n",
       "    </tr>\n",
       "    <tr>\n",
       "      <th>1</th>\n",
       "      <td>A13876112</td>\n",
       "      <td>127.129179</td>\n",
       "      <td>37.476897</td>\n",
       "      <td>197.0</td>\n",
       "    </tr>\n",
       "    <tr>\n",
       "      <th>2</th>\n",
       "      <td>A13873701</td>\n",
       "      <td>127.128775</td>\n",
       "      <td>37.508906</td>\n",
       "      <td>153.0</td>\n",
       "    </tr>\n",
       "    <tr>\n",
       "      <th>3</th>\n",
       "      <td>A15275101</td>\n",
       "      <td>126.840675</td>\n",
       "      <td>37.501162</td>\n",
       "      <td>209.0</td>\n",
       "    </tr>\n",
       "    <tr>\n",
       "      <th>4</th>\n",
       "      <td>A13991016</td>\n",
       "      <td>127.058220</td>\n",
       "      <td>37.631732</td>\n",
       "      <td>205.0</td>\n",
       "    </tr>\n",
       "    <tr>\n",
       "      <th>...</th>\n",
       "      <td>...</td>\n",
       "      <td>...</td>\n",
       "      <td>...</td>\n",
       "      <td>...</td>\n",
       "    </tr>\n",
       "    <tr>\n",
       "      <th>2617</th>\n",
       "      <td>A10023859</td>\n",
       "      <td>126.927512</td>\n",
       "      <td>37.513950</td>\n",
       "      <td>130.0</td>\n",
       "    </tr>\n",
       "    <tr>\n",
       "      <th>2618</th>\n",
       "      <td>A10023858</td>\n",
       "      <td>126.962886</td>\n",
       "      <td>37.548159</td>\n",
       "      <td>NaN</td>\n",
       "    </tr>\n",
       "    <tr>\n",
       "      <th>2619</th>\n",
       "      <td>A10023855</td>\n",
       "      <td>NaN</td>\n",
       "      <td>NaN</td>\n",
       "      <td>675.0</td>\n",
       "    </tr>\n",
       "    <tr>\n",
       "      <th>2620</th>\n",
       "      <td>A10023829</td>\n",
       "      <td>127.033011</td>\n",
       "      <td>37.620171</td>\n",
       "      <td>203.0</td>\n",
       "    </tr>\n",
       "    <tr>\n",
       "      <th>2621</th>\n",
       "      <td>A10023825</td>\n",
       "      <td>127.045793</td>\n",
       "      <td>37.500586</td>\n",
       "      <td>499.0</td>\n",
       "    </tr>\n",
       "  </tbody>\n",
       "</table>\n",
       "<p>2622 rows × 4 columns</p>\n",
       "</div>"
      ],
      "text/plain": [
       "          아파트코드         좌표X        좌표Y    세대수\n",
       "0     A15679103  126.959639  37.500668  206.0\n",
       "1     A13876112  127.129179  37.476897  197.0\n",
       "2     A13873701  127.128775  37.508906  153.0\n",
       "3     A15275101  126.840675  37.501162  209.0\n",
       "4     A13991016  127.058220  37.631732  205.0\n",
       "...         ...         ...        ...    ...\n",
       "2617  A10023859  126.927512  37.513950  130.0\n",
       "2618  A10023858  126.962886  37.548159    NaN\n",
       "2619  A10023855         NaN        NaN  675.0\n",
       "2620  A10023829  127.033011  37.620171  203.0\n",
       "2621  A10023825  127.045793  37.500586  499.0\n",
       "\n",
       "[2622 rows x 4 columns]"
      ]
     },
     "execution_count": 137,
     "metadata": {},
     "output_type": "execute_result"
    }
   ],
   "source": [
    "df_range"
   ]
  },
  {
   "cell_type": "code",
   "execution_count": 149,
   "metadata": {},
   "outputs": [
    {
     "data": {
      "text/plain": [
       "아파트코드             object\n",
       "계약년월               int64\n",
       "단지명               object\n",
       "시군구               object\n",
       "읍면동               object\n",
       "kapt도로명주소         object\n",
       "전용면적             float64\n",
       "층                  int64\n",
       "건축년도               int64\n",
       "주차대수             float64\n",
       "좌표X              float64\n",
       "좌표Y              float64\n",
       "범죄율              float64\n",
       "건물연식               int64\n",
       "대규모점포_거리         float64\n",
       "버스정류장_거리         float64\n",
       "지하철역_거리          float64\n",
       "학교_거리            float64\n",
       "유치원_거리           float64\n",
       "병원_거리            float64\n",
       "거래금액               int64\n",
       "아파트매매가격지수        float64\n",
       "년도                 int64\n",
       "월                  int64\n",
       "주택구매력지수          float64\n",
       "PIR              float64\n",
       "LIR              float64\n",
       "GDP              float64\n",
       "GDI              float64\n",
       "GNI              float64\n",
       "소비자물가지수          float64\n",
       "평균코스피지수          float64\n",
       "M2통화량(평잔,십억원)    float64\n",
       "주택시장소비심리지수       float64\n",
       "미분양              float64\n",
       "분양형태_분양            uint8\n",
       "분양형태_영구임대          uint8\n",
       "분양형태_임대            uint8\n",
       "분양형태_임대+분양         uint8\n",
       "dtype: object"
      ]
     },
     "execution_count": 149,
     "metadata": {},
     "output_type": "execute_result"
    }
   ],
   "source": [
    "df.dtypes"
   ]
  },
  {
   "cell_type": "markdown",
   "metadata": {},
   "source": [
    "반경3km이내의 아파트 코드 출력"
   ]
  },
  {
   "cell_type": "code",
   "execution_count": null,
   "metadata": {},
   "outputs": [],
   "source": [
    "df_range.astype({'아파트코드':})"
   ]
  },
  {
   "cell_type": "code",
   "execution_count": 142,
   "metadata": {},
   "outputs": [],
   "source": [
    "gizun_code = 'A10024240'\n",
    "gizun = df_range[df_range['아파트코드']==gizun_code]"
   ]
  },
  {
   "cell_type": "code",
   "execution_count": 139,
   "metadata": {},
   "outputs": [
    {
     "ename": "TypeError",
     "evalue": "float() argument must be a string or a number, not 'DataFrame'",
     "output_type": "error",
     "traceback": [
      "\u001b[1;31m---------------------------------------------------------------------------\u001b[0m",
      "\u001b[1;31mTypeError\u001b[0m                                 Traceback (most recent call last)",
      "\u001b[1;32m~\\AppData\\Local\\Temp\\ipykernel_11296\\1308190285.py\u001b[0m in \u001b[0;36m<module>\u001b[1;34m\u001b[0m\n\u001b[1;32m----> 1\u001b[1;33m \u001b[0mstart\u001b[0m \u001b[1;33m=\u001b[0m \u001b[1;33m(\u001b[0m\u001b[0mfloat\u001b[0m\u001b[1;33m(\u001b[0m\u001b[0mgizun\u001b[0m\u001b[1;33m[\u001b[0m\u001b[1;34m'좌표Y'\u001b[0m\u001b[1;33m]\u001b[0m\u001b[1;33m)\u001b[0m\u001b[1;33m,\u001b[0m\u001b[0mfloat\u001b[0m\u001b[1;33m(\u001b[0m\u001b[0mgizun\u001b[0m\u001b[1;33m[\u001b[0m\u001b[1;34m'좌표X'\u001b[0m\u001b[1;33m]\u001b[0m\u001b[1;33m)\u001b[0m\u001b[1;33m)\u001b[0m\u001b[1;33m\u001b[0m\u001b[1;33m\u001b[0m\u001b[0m\n\u001b[0m\u001b[0;32m      2\u001b[0m \u001b[0mnear_apts\u001b[0m \u001b[1;33m=\u001b[0m \u001b[1;33m[\u001b[0m\u001b[1;33m]\u001b[0m\u001b[1;33m\u001b[0m\u001b[1;33m\u001b[0m\u001b[0m\n\u001b[0;32m      3\u001b[0m \u001b[1;32mfor\u001b[0m \u001b[0mi\u001b[0m \u001b[1;32min\u001b[0m \u001b[0mdf_range\u001b[0m\u001b[1;33m.\u001b[0m\u001b[0mindex\u001b[0m\u001b[1;33m:\u001b[0m\u001b[1;33m\u001b[0m\u001b[1;33m\u001b[0m\u001b[0m\n\u001b[0;32m      4\u001b[0m     \u001b[0mgoal\u001b[0m \u001b[1;33m=\u001b[0m \u001b[1;33m(\u001b[0m\u001b[0mfloat\u001b[0m\u001b[1;33m(\u001b[0m\u001b[0mdf_range\u001b[0m\u001b[1;33m[\u001b[0m\u001b[1;34m'좌표Y'\u001b[0m\u001b[1;33m]\u001b[0m\u001b[1;33m[\u001b[0m\u001b[0mi\u001b[0m\u001b[1;33m]\u001b[0m\u001b[1;33m)\u001b[0m\u001b[1;33m,\u001b[0m\u001b[0mfloat\u001b[0m\u001b[1;33m(\u001b[0m\u001b[0mdf_range\u001b[0m\u001b[1;33m[\u001b[0m\u001b[1;34m'좌표X'\u001b[0m\u001b[1;33m]\u001b[0m\u001b[1;33m[\u001b[0m\u001b[0mi\u001b[0m\u001b[1;33m]\u001b[0m\u001b[1;33m)\u001b[0m\u001b[1;33m)\u001b[0m\u001b[1;33m\u001b[0m\u001b[1;33m\u001b[0m\u001b[0m\n\u001b[0;32m      5\u001b[0m     \u001b[1;32mif\u001b[0m \u001b[0mhaversine\u001b[0m\u001b[1;33m(\u001b[0m\u001b[0mstart\u001b[0m\u001b[1;33m,\u001b[0m \u001b[0mgoal\u001b[0m\u001b[1;33m)\u001b[0m \u001b[1;33m<\u001b[0m \u001b[1;36m3\u001b[0m\u001b[1;33m:\u001b[0m\u001b[1;33m\u001b[0m\u001b[1;33m\u001b[0m\u001b[0m\n",
      "\u001b[1;31mTypeError\u001b[0m: float() argument must be a string or a number, not 'DataFrame'"
     ]
    }
   ],
   "source": [
    "start = (float(gizun['좌표Y']),float(gizun['좌표X']))\n",
    "near_apts = []\n",
    "for i in df_range.index:\n",
    "    goal = (float(df_range['좌표Y'][i]),float(df_range['좌표X'][i]))\n",
    "    if haversine(start, goal) < 3:\n",
    "        near_apts.append(df_range['아파트코드'][i])\n",
    "near_df = pd.DataFrame()\n",
    "near_df['아파트코드'] = near_apts"
   ]
  },
  {
   "cell_type": "code",
   "execution_count": 108,
   "metadata": {},
   "outputs": [
    {
     "ename": "ValueError",
     "evalue": "The column label '아파트코드' is not unique.\nFor a multi-index, the label must be a tuple with elements corresponding to each level.",
     "output_type": "error",
     "traceback": [
      "\u001b[1;31m---------------------------------------------------------------------------\u001b[0m",
      "\u001b[1;31mValueError\u001b[0m                                Traceback (most recent call last)",
      "\u001b[1;32m~\\AppData\\Local\\Temp\\ipykernel_11296\\1724557636.py\u001b[0m in \u001b[0;36m<module>\u001b[1;34m\u001b[0m\n\u001b[1;32m----> 1\u001b[1;33m \u001b[0mpd\u001b[0m\u001b[1;33m.\u001b[0m\u001b[0mmerge\u001b[0m\u001b[1;33m(\u001b[0m\u001b[0mnear_df\u001b[0m\u001b[1;33m,\u001b[0m\u001b[0mdf_vary\u001b[0m\u001b[1;33m,\u001b[0m\u001b[0mon\u001b[0m\u001b[1;33m=\u001b[0m\u001b[1;34m'아파트코드'\u001b[0m\u001b[1;33m,\u001b[0m\u001b[0mhow\u001b[0m\u001b[1;33m=\u001b[0m\u001b[1;34m'left'\u001b[0m\u001b[1;33m)\u001b[0m\u001b[1;33m\u001b[0m\u001b[1;33m\u001b[0m\u001b[0m\n\u001b[0m",
      "\u001b[1;32mc:\\Users\\46861\\Anaconda3\\envs\\tensorflow\\lib\\site-packages\\pandas\\core\\reshape\\merge.py\u001b[0m in \u001b[0;36mmerge\u001b[1;34m(left, right, how, on, left_on, right_on, left_index, right_index, sort, suffixes, copy, indicator, validate)\u001b[0m\n\u001b[0;32m    117\u001b[0m         \u001b[0mcopy\u001b[0m\u001b[1;33m=\u001b[0m\u001b[0mcopy\u001b[0m\u001b[1;33m,\u001b[0m\u001b[1;33m\u001b[0m\u001b[1;33m\u001b[0m\u001b[0m\n\u001b[0;32m    118\u001b[0m         \u001b[0mindicator\u001b[0m\u001b[1;33m=\u001b[0m\u001b[0mindicator\u001b[0m\u001b[1;33m,\u001b[0m\u001b[1;33m\u001b[0m\u001b[1;33m\u001b[0m\u001b[0m\n\u001b[1;32m--> 119\u001b[1;33m         \u001b[0mvalidate\u001b[0m\u001b[1;33m=\u001b[0m\u001b[0mvalidate\u001b[0m\u001b[1;33m,\u001b[0m\u001b[1;33m\u001b[0m\u001b[1;33m\u001b[0m\u001b[0m\n\u001b[0m\u001b[0;32m    120\u001b[0m     )\n\u001b[0;32m    121\u001b[0m     \u001b[1;32mreturn\u001b[0m \u001b[0mop\u001b[0m\u001b[1;33m.\u001b[0m\u001b[0mget_result\u001b[0m\u001b[1;33m(\u001b[0m\u001b[1;33m)\u001b[0m\u001b[1;33m\u001b[0m\u001b[1;33m\u001b[0m\u001b[0m\n",
      "\u001b[1;32mc:\\Users\\46861\\Anaconda3\\envs\\tensorflow\\lib\\site-packages\\pandas\\core\\reshape\\merge.py\u001b[0m in \u001b[0;36m__init__\u001b[1;34m(self, left, right, how, on, left_on, right_on, axis, left_index, right_index, sort, suffixes, copy, indicator, validate)\u001b[0m\n\u001b[0;32m    697\u001b[0m             \u001b[0mself\u001b[0m\u001b[1;33m.\u001b[0m\u001b[0mright_join_keys\u001b[0m\u001b[1;33m,\u001b[0m\u001b[1;33m\u001b[0m\u001b[1;33m\u001b[0m\u001b[0m\n\u001b[0;32m    698\u001b[0m             \u001b[0mself\u001b[0m\u001b[1;33m.\u001b[0m\u001b[0mjoin_names\u001b[0m\u001b[1;33m,\u001b[0m\u001b[1;33m\u001b[0m\u001b[1;33m\u001b[0m\u001b[0m\n\u001b[1;32m--> 699\u001b[1;33m         ) = self._get_merge_keys()\n\u001b[0m\u001b[0;32m    700\u001b[0m \u001b[1;33m\u001b[0m\u001b[0m\n\u001b[0;32m    701\u001b[0m         \u001b[1;31m# validate the merge keys dtypes. We may need to coerce\u001b[0m\u001b[1;33m\u001b[0m\u001b[1;33m\u001b[0m\u001b[1;33m\u001b[0m\u001b[0m\n",
      "\u001b[1;32mc:\\Users\\46861\\Anaconda3\\envs\\tensorflow\\lib\\site-packages\\pandas\\core\\reshape\\merge.py\u001b[0m in \u001b[0;36m_get_merge_keys\u001b[1;34m(self)\u001b[0m\n\u001b[0;32m   1094\u001b[0m                     \u001b[1;32mif\u001b[0m \u001b[1;32mnot\u001b[0m \u001b[0mis_rkey\u001b[0m\u001b[1;33m(\u001b[0m\u001b[0mrk\u001b[0m\u001b[1;33m)\u001b[0m\u001b[1;33m:\u001b[0m\u001b[1;33m\u001b[0m\u001b[1;33m\u001b[0m\u001b[0m\n\u001b[0;32m   1095\u001b[0m                         \u001b[1;32mif\u001b[0m \u001b[0mrk\u001b[0m \u001b[1;32mis\u001b[0m \u001b[1;32mnot\u001b[0m \u001b[1;32mNone\u001b[0m\u001b[1;33m:\u001b[0m\u001b[1;33m\u001b[0m\u001b[1;33m\u001b[0m\u001b[0m\n\u001b[1;32m-> 1096\u001b[1;33m                             \u001b[0mright_keys\u001b[0m\u001b[1;33m.\u001b[0m\u001b[0mappend\u001b[0m\u001b[1;33m(\u001b[0m\u001b[0mright\u001b[0m\u001b[1;33m.\u001b[0m\u001b[0m_get_label_or_level_values\u001b[0m\u001b[1;33m(\u001b[0m\u001b[0mrk\u001b[0m\u001b[1;33m)\u001b[0m\u001b[1;33m)\u001b[0m\u001b[1;33m\u001b[0m\u001b[1;33m\u001b[0m\u001b[0m\n\u001b[0m\u001b[0;32m   1097\u001b[0m                         \u001b[1;32melse\u001b[0m\u001b[1;33m:\u001b[0m\u001b[1;33m\u001b[0m\u001b[1;33m\u001b[0m\u001b[0m\n\u001b[0;32m   1098\u001b[0m                             \u001b[1;31m# work-around for merge_asof(right_index=True)\u001b[0m\u001b[1;33m\u001b[0m\u001b[1;33m\u001b[0m\u001b[1;33m\u001b[0m\u001b[0m\n",
      "\u001b[1;32mc:\\Users\\46861\\Anaconda3\\envs\\tensorflow\\lib\\site-packages\\pandas\\core\\generic.py\u001b[0m in \u001b[0;36m_get_label_or_level_values\u001b[1;34m(self, key, axis)\u001b[0m\n\u001b[0;32m   1793\u001b[0m             \u001b[0mlabel_axis_name\u001b[0m \u001b[1;33m=\u001b[0m \u001b[1;34m\"column\"\u001b[0m \u001b[1;32mif\u001b[0m \u001b[0maxis\u001b[0m \u001b[1;33m==\u001b[0m \u001b[1;36m0\u001b[0m \u001b[1;32melse\u001b[0m \u001b[1;34m\"index\"\u001b[0m\u001b[1;33m\u001b[0m\u001b[1;33m\u001b[0m\u001b[0m\n\u001b[0;32m   1794\u001b[0m             raise ValueError(\n\u001b[1;32m-> 1795\u001b[1;33m                 \u001b[1;34mf\"The {label_axis_name} label '{key}' is not unique.{multi_message}\"\u001b[0m\u001b[1;33m\u001b[0m\u001b[1;33m\u001b[0m\u001b[0m\n\u001b[0m\u001b[0;32m   1796\u001b[0m             )\n\u001b[0;32m   1797\u001b[0m \u001b[1;33m\u001b[0m\u001b[0m\n",
      "\u001b[1;31mValueError\u001b[0m: The column label '아파트코드' is not unique.\nFor a multi-index, the label must be a tuple with elements corresponding to each level."
     ]
    }
   ],
   "source": [
    "pd.merge(near_df,df_vary,on='아파트코드',how='left')"
   ]
  },
  {
   "cell_type": "code",
   "execution_count": 101,
   "metadata": {},
   "outputs": [
    {
     "data": {
      "text/plain": [
       "Index(['A10024240', 'A10026051', 'A13501002', 'A13501004', 'A13501006',\n",
       "       'A13508009', 'A13524005', 'A13527001', 'A13527005', 'A13527006',\n",
       "       ...\n",
       "       'A10027474', 'A13508012', 'A10026941', 'A10026411', 'A10026004',\n",
       "       'A10026015', 'A10025927', 'A10024913', 'A10024564', 'A10024574'],\n",
       "      dtype='object', name='아파트코드', length=151)"
      ]
     },
     "execution_count": 101,
     "metadata": {},
     "output_type": "execute_result"
    }
   ],
   "source": [
    "near_df.set_index('아파트코드').index"
   ]
  },
  {
   "cell_type": "code",
   "execution_count": 104,
   "metadata": {},
   "outputs": [
    {
     "data": {
      "text/plain": [
       "아파트코드     object\n",
       "세대수      float64\n",
       "dtype: object"
      ]
     },
     "execution_count": 104,
     "metadata": {},
     "output_type": "execute_result"
    }
   ],
   "source": [
    "df_vary.dtypes"
   ]
  },
  {
   "cell_type": "code",
   "execution_count": 107,
   "metadata": {},
   "outputs": [
    {
     "data": {
      "text/plain": [
       "아파트코드    object\n",
       "dtype: object"
      ]
     },
     "execution_count": 107,
     "metadata": {},
     "output_type": "execute_result"
    }
   ],
   "source": [
    "near_df.dtypes"
   ]
  },
  {
   "cell_type": "code",
   "execution_count": 50,
   "metadata": {},
   "outputs": [
    {
     "data": {
      "text/plain": [
       "아파트코드    object\n",
       "dtype: object"
      ]
     },
     "execution_count": 50,
     "metadata": {},
     "output_type": "execute_result"
    }
   ],
   "source": [
    "near_df.dtypes"
   ]
  },
  {
   "cell_type": "code",
   "execution_count": 49,
   "metadata": {},
   "outputs": [
    {
     "data": {
      "text/plain": [
       "아파트코드     object\n",
       "세대수      float64\n",
       "dtype: object"
      ]
     },
     "execution_count": 49,
     "metadata": {},
     "output_type": "execute_result"
    }
   ],
   "source": [
    "df_vary.dtypes"
   ]
  },
  {
   "cell_type": "code",
   "execution_count": 48,
   "metadata": {},
   "outputs": [
    {
     "ename": "KeyError",
     "evalue": "Index(['아파트코드'], dtype='object')",
     "output_type": "error",
     "traceback": [
      "\u001b[1;31m---------------------------------------------------------------------------\u001b[0m",
      "\u001b[1;31mKeyError\u001b[0m                                  Traceback (most recent call last)",
      "\u001b[1;32m~\\AppData\\Local\\Temp\\ipykernel_11296\\1882078924.py\u001b[0m in \u001b[0;36m<module>\u001b[1;34m\u001b[0m\n\u001b[1;32m----> 1\u001b[1;33m \u001b[0mdf_vary\u001b[0m\u001b[1;33m.\u001b[0m\u001b[0mdrop_duplicates\u001b[0m\u001b[1;33m(\u001b[0m\u001b[1;33m[\u001b[0m\u001b[1;34m'아파트코드'\u001b[0m\u001b[1;33m]\u001b[0m\u001b[1;33m)\u001b[0m\u001b[1;33m\u001b[0m\u001b[1;33m\u001b[0m\u001b[0m\n\u001b[0m",
      "\u001b[1;32mc:\\Users\\46861\\Anaconda3\\envs\\tensorflow\\lib\\site-packages\\pandas\\util\\_decorators.py\u001b[0m in \u001b[0;36mwrapper\u001b[1;34m(*args, **kwargs)\u001b[0m\n\u001b[0;32m    309\u001b[0m                     \u001b[0mstacklevel\u001b[0m\u001b[1;33m=\u001b[0m\u001b[0mstacklevel\u001b[0m\u001b[1;33m,\u001b[0m\u001b[1;33m\u001b[0m\u001b[1;33m\u001b[0m\u001b[0m\n\u001b[0;32m    310\u001b[0m                 )\n\u001b[1;32m--> 311\u001b[1;33m             \u001b[1;32mreturn\u001b[0m \u001b[0mfunc\u001b[0m\u001b[1;33m(\u001b[0m\u001b[1;33m*\u001b[0m\u001b[0margs\u001b[0m\u001b[1;33m,\u001b[0m \u001b[1;33m**\u001b[0m\u001b[0mkwargs\u001b[0m\u001b[1;33m)\u001b[0m\u001b[1;33m\u001b[0m\u001b[1;33m\u001b[0m\u001b[0m\n\u001b[0m\u001b[0;32m    312\u001b[0m \u001b[1;33m\u001b[0m\u001b[0m\n\u001b[0;32m    313\u001b[0m         \u001b[1;32mreturn\u001b[0m \u001b[0mwrapper\u001b[0m\u001b[1;33m\u001b[0m\u001b[1;33m\u001b[0m\u001b[0m\n",
      "\u001b[1;32mc:\\Users\\46861\\Anaconda3\\envs\\tensorflow\\lib\\site-packages\\pandas\\core\\frame.py\u001b[0m in \u001b[0;36mdrop_duplicates\u001b[1;34m(self, subset, keep, inplace, ignore_index)\u001b[0m\n\u001b[0;32m   6061\u001b[0m         \u001b[0minplace\u001b[0m \u001b[1;33m=\u001b[0m \u001b[0mvalidate_bool_kwarg\u001b[0m\u001b[1;33m(\u001b[0m\u001b[0minplace\u001b[0m\u001b[1;33m,\u001b[0m \u001b[1;34m\"inplace\"\u001b[0m\u001b[1;33m)\u001b[0m\u001b[1;33m\u001b[0m\u001b[1;33m\u001b[0m\u001b[0m\n\u001b[0;32m   6062\u001b[0m         \u001b[0mignore_index\u001b[0m \u001b[1;33m=\u001b[0m \u001b[0mvalidate_bool_kwarg\u001b[0m\u001b[1;33m(\u001b[0m\u001b[0mignore_index\u001b[0m\u001b[1;33m,\u001b[0m \u001b[1;34m\"ignore_index\"\u001b[0m\u001b[1;33m)\u001b[0m\u001b[1;33m\u001b[0m\u001b[1;33m\u001b[0m\u001b[0m\n\u001b[1;32m-> 6063\u001b[1;33m         \u001b[0mduplicated\u001b[0m \u001b[1;33m=\u001b[0m \u001b[0mself\u001b[0m\u001b[1;33m.\u001b[0m\u001b[0mduplicated\u001b[0m\u001b[1;33m(\u001b[0m\u001b[0msubset\u001b[0m\u001b[1;33m,\u001b[0m \u001b[0mkeep\u001b[0m\u001b[1;33m=\u001b[0m\u001b[0mkeep\u001b[0m\u001b[1;33m)\u001b[0m\u001b[1;33m\u001b[0m\u001b[1;33m\u001b[0m\u001b[0m\n\u001b[0m\u001b[0;32m   6064\u001b[0m \u001b[1;33m\u001b[0m\u001b[0m\n\u001b[0;32m   6065\u001b[0m         \u001b[0mresult\u001b[0m \u001b[1;33m=\u001b[0m \u001b[0mself\u001b[0m\u001b[1;33m[\u001b[0m\u001b[1;33m-\u001b[0m\u001b[0mduplicated\u001b[0m\u001b[1;33m]\u001b[0m\u001b[1;33m\u001b[0m\u001b[1;33m\u001b[0m\u001b[0m\n",
      "\u001b[1;32mc:\\Users\\46861\\Anaconda3\\envs\\tensorflow\\lib\\site-packages\\pandas\\core\\frame.py\u001b[0m in \u001b[0;36mduplicated\u001b[1;34m(self, subset, keep)\u001b[0m\n\u001b[0;32m   6195\u001b[0m         \u001b[0mdiff\u001b[0m \u001b[1;33m=\u001b[0m \u001b[0mIndex\u001b[0m\u001b[1;33m(\u001b[0m\u001b[0msubset\u001b[0m\u001b[1;33m)\u001b[0m\u001b[1;33m.\u001b[0m\u001b[0mdifference\u001b[0m\u001b[1;33m(\u001b[0m\u001b[0mself\u001b[0m\u001b[1;33m.\u001b[0m\u001b[0mcolumns\u001b[0m\u001b[1;33m)\u001b[0m\u001b[1;33m\u001b[0m\u001b[1;33m\u001b[0m\u001b[0m\n\u001b[0;32m   6196\u001b[0m         \u001b[1;32mif\u001b[0m \u001b[1;32mnot\u001b[0m \u001b[0mdiff\u001b[0m\u001b[1;33m.\u001b[0m\u001b[0mempty\u001b[0m\u001b[1;33m:\u001b[0m\u001b[1;33m\u001b[0m\u001b[1;33m\u001b[0m\u001b[0m\n\u001b[1;32m-> 6197\u001b[1;33m             \u001b[1;32mraise\u001b[0m \u001b[0mKeyError\u001b[0m\u001b[1;33m(\u001b[0m\u001b[0mdiff\u001b[0m\u001b[1;33m)\u001b[0m\u001b[1;33m\u001b[0m\u001b[1;33m\u001b[0m\u001b[0m\n\u001b[0m\u001b[0;32m   6198\u001b[0m \u001b[1;33m\u001b[0m\u001b[0m\n\u001b[0;32m   6199\u001b[0m         \u001b[0mvals\u001b[0m \u001b[1;33m=\u001b[0m \u001b[1;33m(\u001b[0m\u001b[0mcol\u001b[0m\u001b[1;33m.\u001b[0m\u001b[0mvalues\u001b[0m \u001b[1;32mfor\u001b[0m \u001b[0mname\u001b[0m\u001b[1;33m,\u001b[0m \u001b[0mcol\u001b[0m \u001b[1;32min\u001b[0m \u001b[0mself\u001b[0m\u001b[1;33m.\u001b[0m\u001b[0mitems\u001b[0m\u001b[1;33m(\u001b[0m\u001b[1;33m)\u001b[0m \u001b[1;32mif\u001b[0m \u001b[0mname\u001b[0m \u001b[1;32min\u001b[0m \u001b[0msubset\u001b[0m\u001b[1;33m)\u001b[0m\u001b[1;33m\u001b[0m\u001b[1;33m\u001b[0m\u001b[0m\n",
      "\u001b[1;31mKeyError\u001b[0m: Index(['아파트코드'], dtype='object')"
     ]
    }
   ],
   "source": [
    "df_vary.drop_duplicates(['아파트코드'])"
   ]
  },
  {
   "cell_type": "code",
   "execution_count": 134,
   "metadata": {},
   "outputs": [
    {
     "data": {
      "text/html": [
       "<div>\n",
       "<style scoped>\n",
       "    .dataframe tbody tr th:only-of-type {\n",
       "        vertical-align: middle;\n",
       "    }\n",
       "\n",
       "    .dataframe tbody tr th {\n",
       "        vertical-align: top;\n",
       "    }\n",
       "\n",
       "    .dataframe thead tr th {\n",
       "        text-align: left;\n",
       "    }\n",
       "</style>\n",
       "<table border=\"1\" class=\"dataframe\">\n",
       "  <thead>\n",
       "    <tr>\n",
       "      <th></th>\n",
       "      <th>아파트코드</th>\n",
       "      <th>세대수</th>\n",
       "    </tr>\n",
       "  </thead>\n",
       "  <tbody>\n",
       "    <tr>\n",
       "      <th>0</th>\n",
       "      <td>A15679103</td>\n",
       "      <td>206.0</td>\n",
       "    </tr>\n",
       "    <tr>\n",
       "      <th>1</th>\n",
       "      <td>A13876112</td>\n",
       "      <td>197.0</td>\n",
       "    </tr>\n",
       "    <tr>\n",
       "      <th>2</th>\n",
       "      <td>A13873701</td>\n",
       "      <td>153.0</td>\n",
       "    </tr>\n",
       "    <tr>\n",
       "      <th>3</th>\n",
       "      <td>A15275101</td>\n",
       "      <td>209.0</td>\n",
       "    </tr>\n",
       "    <tr>\n",
       "      <th>4</th>\n",
       "      <td>A13991016</td>\n",
       "      <td>205.0</td>\n",
       "    </tr>\n",
       "    <tr>\n",
       "      <th>...</th>\n",
       "      <td>...</td>\n",
       "      <td>...</td>\n",
       "    </tr>\n",
       "    <tr>\n",
       "      <th>2617</th>\n",
       "      <td>A10023859</td>\n",
       "      <td>130.0</td>\n",
       "    </tr>\n",
       "    <tr>\n",
       "      <th>2618</th>\n",
       "      <td>A10023858</td>\n",
       "      <td>NaN</td>\n",
       "    </tr>\n",
       "    <tr>\n",
       "      <th>2619</th>\n",
       "      <td>A10023855</td>\n",
       "      <td>675.0</td>\n",
       "    </tr>\n",
       "    <tr>\n",
       "      <th>2620</th>\n",
       "      <td>A10023829</td>\n",
       "      <td>203.0</td>\n",
       "    </tr>\n",
       "    <tr>\n",
       "      <th>2621</th>\n",
       "      <td>A10023825</td>\n",
       "      <td>499.0</td>\n",
       "    </tr>\n",
       "  </tbody>\n",
       "</table>\n",
       "<p>2622 rows × 2 columns</p>\n",
       "</div>"
      ],
      "text/plain": [
       "          아파트코드    세대수\n",
       "0     A15679103  206.0\n",
       "1     A13876112  197.0\n",
       "2     A13873701  153.0\n",
       "3     A15275101  209.0\n",
       "4     A13991016  205.0\n",
       "...         ...    ...\n",
       "2617  A10023859  130.0\n",
       "2618  A10023858    NaN\n",
       "2619  A10023855  675.0\n",
       "2620  A10023829  203.0\n",
       "2621  A10023825  499.0\n",
       "\n",
       "[2622 rows x 2 columns]"
      ]
     },
     "execution_count": 134,
     "metadata": {},
     "output_type": "execute_result"
    }
   ],
   "source": [
    "df_vary"
   ]
  }
 ],
 "metadata": {
  "kernelspec": {
   "display_name": "Python 3.7.13 ('tensorflow')",
   "language": "python",
   "name": "python3"
  },
  "language_info": {
   "codemirror_mode": {
    "name": "ipython",
    "version": 3
   },
   "file_extension": ".py",
   "mimetype": "text/x-python",
   "name": "python",
   "nbconvert_exporter": "python",
   "pygments_lexer": "ipython3",
   "version": "3.7.13"
  },
  "orig_nbformat": 4,
  "vscode": {
   "interpreter": {
    "hash": "df8ae120c339fa923d6b2ef99afff93aef6b43c9ded0da5150fd70ad6113f611"
   }
  }
 },
 "nbformat": 4,
 "nbformat_minor": 2
}
